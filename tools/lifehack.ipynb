{
 "cells": [
  {
   "cell_type": "code",
   "execution_count": 3,
   "metadata": {},
   "outputs": [
    {
     "name": "stderr",
     "output_type": "stream",
     "text": [
      "d:\\Нурсултан\\Суб-навыки\\Работа\\Task1search\\env\\Lib\\site-packages\\pydantic\\_internal\\_config.py:341: UserWarning: Valid config keys have changed in V2:\n",
      "* 'allow_population_by_field_name' has been renamed to 'populate_by_name'\n",
      "* 'smart_union' has been removed\n",
      "  warnings.warn(message, UserWarning)\n",
      "d:\\Нурсултан\\Суб-навыки\\Работа\\Task1search\\env\\Lib\\site-packages\\tqdm\\auto.py:21: TqdmWarning: IProgress not found. Please update jupyter and ipywidgets. See https://ipywidgets.readthedocs.io/en/stable/user_install.html\n",
      "  from .autonotebook import tqdm as notebook_tqdm\n"
     ]
    }
   ],
   "source": [
    "# from composio_openai import ComposioToolSet, App\n",
    "from composio_crewai import Action, ComposioToolSet, App\n",
    "from openai import OpenAI\n",
    "\n",
    "import dotenv\n",
    "import pandas as pd"
   ]
  },
  {
   "cell_type": "code",
   "execution_count": 4,
   "metadata": {},
   "outputs": [
    {
     "name": "stderr",
     "output_type": "stream",
     "text": [
      "2024-09-11 09:27:08,166 - 6592 - logging.py-logging:85 - INFO: Logging is set to INFO, use `logging_level` argument or `COMPOSIO_LOGGING_LEVEL` change this\n",
      "d:\\Нурсултан\\Суб-навыки\\Работа\\Task1search\\env\\Lib\\site-packages\\composio\\client\\collections.py:898: UserWarning: Using all the actions of an app is not recommended. Please use tags to filter actions or provide specific actions. We just pass the important actions to the agent, but this is not meant to be used in production. Check out https://docs.composio.dev/sdk/python/actions for more information.\n",
      "  warnings.warn(\n"
     ]
    }
   ],
   "source": [
    "toolset = ComposioToolSet()\n",
    "\n",
    "tools = toolset.get_tools(apps=[App.GOOGLECALENDAR])"
   ]
  },
  {
   "cell_type": "code",
   "execution_count": 5,
   "metadata": {},
   "outputs": [
    {
     "data": {
      "text/plain": [
       "[StructuredTool(name='GOOGLECALENDAR_CREATE_EVENT', description='Create a new event in a Google Calendar.', args_schema=<class 'pydantic.v1.main.CreateEventRequest'>, func=<function ComposioToolSet._wrap_action.<locals>.function at 0x000001D60B0CA3E0>)]"
      ]
     },
     "execution_count": 5,
     "metadata": {},
     "output_type": "execute_result"
    }
   ],
   "source": [
    "tools[:1]"
   ]
  },
  {
   "cell_type": "code",
   "execution_count": 9,
   "metadata": {},
   "outputs": [],
   "source": [
    "from crewai_tools import BaseTool\n",
    "\n",
    "class MyCustomTool(BaseTool):\n",
    "    name: str = \"Name of my tool\"\n",
    "    number : int = 0\n",
    "\n",
    "    if number == 1:\n",
    "        description:str = \"nothing\"\n",
    "    else:\n",
    "        description: str = \"Clear description for what this tool is useful for, your agent will need this information to use it.\"\n",
    "\n",
    "    def _run(self, argument: str) -> str:\n",
    "        if self.number == 1:\n",
    "            self.description = 'Hello'\n",
    "        # Implementation goes here\n",
    "        return \"Result from custom tool\""
   ]
  },
  {
   "cell_type": "code",
   "execution_count": 10,
   "metadata": {},
   "outputs": [],
   "source": [
    "tools = []\n",
    "tools.append(MyCustomTool())\n",
    "tools.append(MyCustomTool(number=1))"
   ]
  },
  {
   "cell_type": "code",
   "execution_count": null,
   "metadata": {},
   "outputs": [],
   "source": []
  }
 ],
 "metadata": {
  "kernelspec": {
   "display_name": "env",
   "language": "python",
   "name": "python3"
  },
  "language_info": {
   "codemirror_mode": {
    "name": "ipython",
    "version": 3
   },
   "file_extension": ".py",
   "mimetype": "text/x-python",
   "name": "python",
   "nbconvert_exporter": "python",
   "pygments_lexer": "ipython3",
   "version": "3.11.7"
  },
  "orig_nbformat": 4,
  "vscode": {
   "interpreter": {
    "hash": "ac62ce362d1a757bfd43803f2a16aafe37b0e79daff897a3beefc2ff79e3999c"
   }
  }
 },
 "nbformat": 4,
 "nbformat_minor": 2
}
