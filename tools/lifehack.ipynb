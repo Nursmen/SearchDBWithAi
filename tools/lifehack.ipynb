{
 "cells": [
  {
   "cell_type": "code",
   "execution_count": 1,
   "metadata": {},
   "outputs": [],
   "source": [
    "from composio_openai import ComposioToolSet, Action, App\n",
    "from openai import OpenAI\n",
    "\n",
    "import dotenv\n",
    "import pandas as pd"
   ]
  },
  {
   "cell_type": "code",
   "execution_count": 2,
   "metadata": {},
   "outputs": [
    {
     "name": "stderr",
     "output_type": "stream",
     "text": [
      "[2024-09-02 18:26:11,930][INFO] Logging is set to INFO, use `logging_level` argument or `COMPOSIO_LOGGING_LEVEL` change this\n"
     ]
    }
   ],
   "source": [
    "dotenv.load_dotenv()\n",
    "\n",
    "openai_client = OpenAI()\n",
    "composio_toolset = ComposioToolSet(entity_id=\"Jessica\")"
   ]
  },
  {
   "cell_type": "code",
   "execution_count": 3,
   "metadata": {},
   "outputs": [
    {
     "data": {
      "text/plain": [
       "<composio.client.enums._action.Action at 0x21e30e91950>"
      ]
     },
     "execution_count": 3,
     "metadata": {},
     "output_type": "execute_result"
    }
   ],
   "source": [
    "Action.GOOGLECALENDAR_CREATE_EVENT"
   ]
  },
  {
   "cell_type": "code",
   "execution_count": 4,
   "metadata": {},
   "outputs": [],
   "source": [
    "tools = composio_toolset.get_tools(actions=[Action.GOOGLECALENDAR_CREATE_EVENT])"
   ]
  },
  {
   "cell_type": "code",
   "execution_count": 5,
   "metadata": {},
   "outputs": [
    {
     "data": {
      "text/plain": [
       "[{'type': 'function',\n",
       "  'function': {'name': 'GOOGLECALENDAR_CREATE_EVENT',\n",
       "   'description': 'Create a new event in a Google Calendar.',\n",
       "   'parameters': {'properties': {'description': {'default': None,\n",
       "      'description': 'Description of the event. Can contain HTML. Optional. Please provide a value of type string.',\n",
       "      'title': 'Description',\n",
       "      'type': 'string'},\n",
       "     'eventType': {'default': 'default',\n",
       "      'description': \"Type of the event, immutable post-creation. Currently, only 'default' and 'workingLocation' can be created. Note: choose value only from following options - ['default', 'outOfOffice', 'focusTime', 'workingLocation']. Please provide a value of type string.\",\n",
       "      'enum': ['default', 'outOfOffice', 'focusTime', 'workingLocation'],\n",
       "      'title': 'EventType',\n",
       "      'type': 'string'},\n",
       "     'create_meeting_room': {'default': None,\n",
       "      'description': 'Whether to create a google meet event. If set to true, a link to the google meet event will be created and added to the event. Please provide a value of type boolean.',\n",
       "      'title': 'Create Meeting Room',\n",
       "      'type': 'boolean'},\n",
       "     'guestsCanSeeOtherGuests': {'default': None,\n",
       "      'description': \"Whether attendees other than the organizer can see who the event's attendees are. Please provide a value of type boolean.\",\n",
       "      'title': 'Guestscanseeotherguests',\n",
       "      'type': 'boolean'},\n",
       "     'guestsCanInviteOthers': {'default': None,\n",
       "      'description': 'Whether attendees other than the organizer can invite others to the event. Please provide a value of type boolean.',\n",
       "      'title': 'Guestscaninviteothers',\n",
       "      'type': 'boolean'},\n",
       "     'location': {'default': None,\n",
       "      'description': 'Geographic location of the event as free-form text. Please provide a value of type string.',\n",
       "      'title': 'Location',\n",
       "      'type': 'string'},\n",
       "     'summary': {'default': None,\n",
       "      'description': 'Summary of the event. Title of the event. Please provide a value of type string.',\n",
       "      'title': 'Summary',\n",
       "      'type': 'string'},\n",
       "     'transparency': {'default': 'opaque',\n",
       "      'description': \"Event's calendar block status: 'opaque' (busy) or 'transparent' (available). Note: choose value only from following options - ['opaque', 'transparent']. Please provide a value of type string.\",\n",
       "      'enum': ['opaque', 'transparent'],\n",
       "      'title': 'EventTransparency',\n",
       "      'type': 'string'},\n",
       "     'visibility': {'default': 'default',\n",
       "      'description': \"Visibility of the event ('default', 'public', 'private', 'confidential'). Note: choose value only from following options - ['default', 'public', 'private', 'confidential']. Please provide a value of type string.\",\n",
       "      'enum': ['default', 'public', 'private', 'confidential'],\n",
       "      'title': 'EventVisibility',\n",
       "      'type': 'string'},\n",
       "     'recurrence': {'default': None,\n",
       "      'description': 'List of RRULE, EXRULE, RDATE and EXDATE lines for a recurring event, as specified in RFC5545.\\n        Note that DTSTART and DTEND lines are not allowed in this field; event start and end times are specified in the start and end fields. \\n        This field is omitted for single events or instances of recurring events.',\n",
       "      'examples': ['RRULE:FREQ=DAILY;COUNT=2', 'EXRULE:FREQ=DAILY;COUNT=1'],\n",
       "      'items': {'type': 'string'},\n",
       "      'title': 'Recurrence',\n",
       "      'type': 'array'},\n",
       "     'timezone': {'default': None,\n",
       "      'description': 'Timezone of the event. As an example: America/New_York. Necessary only if notmentioned in Start Date. Please provide a value of type string.',\n",
       "      'examples': ['America/New_York'],\n",
       "      'title': 'Timezone',\n",
       "      'type': 'string'},\n",
       "     'guests_can_modify': {'default': False,\n",
       "      'description': 'Indicates whether guests can modify the event. Please provide a value of type boolean.',\n",
       "      'examples': [True, False],\n",
       "      'title': 'Guests Can Modify',\n",
       "      'type': 'boolean'},\n",
       "     'attendees': {'default': None,\n",
       "      'description': 'List of emails of attendees for the event. This should strictly be a list of strings (each string an email ID). It must not be any dict or list of dict.',\n",
       "      'examples': [['john@doe.com', 'rock@json.com'], ['sam@gmail.com']],\n",
       "      'items': {'type': 'string'},\n",
       "      'title': 'Attendees',\n",
       "      'type': 'array'},\n",
       "     'send_updates': {'default': None,\n",
       "      'description': 'Defaults to True. Whether to send updates to the attendees of the event. Please provide a value of type boolean.',\n",
       "      'examples': [True, False],\n",
       "      'title': 'Send Updates',\n",
       "      'type': 'boolean'},\n",
       "     'start_datetime': {'description': 'Start date and time of the event. The start of the interval for the query in the following format. \\nSome examples of expected datetime format:\\n\\tUTC-5:30, 6:50 PM\\t->If date is not mentioned, and seeming that the start date is in next 24 hours.\\n\\tUTC+1, 11:59 PM, 31 Dec\\t->If the meeting start date is in next 1 year (this is most possible case)\\n\\tUTC-3:45, 7:15 AM, 22 Aug 2020\\t->If the meeting is to be set after at a spefic date, mentioned with year.\\n\\t11:15 PM, 12 May 2019\\t->In case no UTC offset to be mentioned, skip the UTC part altogether.\\n\\t2023-03-01T00:00:00Z\\t->Standard ISO-8601 format. Please provide a value of type string. This parameter is required.',\n",
       "      'examples': ['UTC-5:30, 6:50 PM',\n",
       "       'UTC+1, 11:59 PM, 31 Dec',\n",
       "       'UTC-3:45, 7:15 AM, 22 Aug 2020',\n",
       "       '11:15 PM, 12 May 2019',\n",
       "       '2023-03-01T00:00:00Z'],\n",
       "      'title': 'Start Datetime',\n",
       "      'type': 'string'},\n",
       "     'event_duration': {'description': \"Duration of the meeting event to be set, in a format like '3h30m', '2h', or '20m'. Please provide a value of type string. This parameter is required.\",\n",
       "      'examples': ['3h30m', '2h', '20m'],\n",
       "      'title': 'Event Duration',\n",
       "      'type': 'string'},\n",
       "     'calendar_id': {'default': 'primary',\n",
       "      'description': 'The ID of the Google Calendar. `primary` for interacting with the primary calendar. Please provide a value of type string.',\n",
       "      'examples': ['primary', 'user@gmail.com'],\n",
       "      'title': 'Calendar Id',\n",
       "      'type': 'string'}},\n",
       "    'title': 'CreateEventRequest',\n",
       "    'type': 'object',\n",
       "    'required': ['start_datetime', 'event_duration']}}}]"
      ]
     },
     "execution_count": 5,
     "metadata": {},
     "output_type": "execute_result"
    }
   ],
   "source": [
    "tools"
   ]
  },
  {
   "cell_type": "code",
   "execution_count": null,
   "metadata": {},
   "outputs": [],
   "source": []
  }
 ],
 "metadata": {
  "kernelspec": {
   "display_name": "env",
   "language": "python",
   "name": "python3"
  },
  "language_info": {
   "codemirror_mode": {
    "name": "ipython",
    "version": 3
   },
   "file_extension": ".py",
   "mimetype": "text/x-python",
   "name": "python",
   "nbconvert_exporter": "python",
   "pygments_lexer": "ipython3",
   "version": "3.11.7 | packaged by Anaconda, Inc. | (main, Dec 15 2023, 18:05:47) [MSC v.1916 64 bit (AMD64)]"
  },
  "orig_nbformat": 4,
  "vscode": {
   "interpreter": {
    "hash": "ac62ce362d1a757bfd43803f2a16aafe37b0e79daff897a3beefc2ff79e3999c"
   }
  }
 },
 "nbformat": 4,
 "nbformat_minor": 2
}
