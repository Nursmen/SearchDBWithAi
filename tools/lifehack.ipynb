{
 "cells": [
  {
   "cell_type": "code",
   "execution_count": 1,
   "metadata": {},
   "outputs": [
    {
     "name": "stderr",
     "output_type": "stream",
     "text": [
      "d:\\Нурсултан\\Суб-навыки\\Работа\\Task1search\\env\\Lib\\site-packages\\pydantic\\_internal\\_config.py:341: UserWarning: Valid config keys have changed in V2:\n",
      "* 'allow_population_by_field_name' has been renamed to 'populate_by_name'\n",
      "* 'smart_union' has been removed\n",
      "  warnings.warn(message, UserWarning)\n",
      "d:\\Нурсултан\\Суб-навыки\\Работа\\Task1search\\env\\Lib\\site-packages\\tqdm\\auto.py:21: TqdmWarning: IProgress not found. Please update jupyter and ipywidgets. See https://ipywidgets.readthedocs.io/en/stable/user_install.html\n",
      "  from .autonotebook import tqdm as notebook_tqdm\n"
     ]
    }
   ],
   "source": [
    "# from composio_openai import ComposioToolSet, App\n",
    "from composio_openai import Action, ComposioToolSet, App\n",
    "from openai import OpenAI\n",
    "\n",
    "import dotenv\n",
    "import pandas as pd"
   ]
  },
  {
   "cell_type": "code",
   "execution_count": 2,
   "metadata": {},
   "outputs": [
    {
     "name": "stderr",
     "output_type": "stream",
     "text": [
      "[2024-09-12 20:59:00,420][INFO] Logging is set to INFO, use `logging_level` argument or `COMPOSIO_LOGGING_LEVEL` change this\n",
      "d:\\Нурсултан\\Суб-навыки\\Работа\\Task1search\\env\\Lib\\site-packages\\composio\\client\\collections.py:898: UserWarning: Using all the actions of an app is not recommended. Please use tags to filter actions or provide specific actions. We just pass the important actions to the agent, but this is not meant to be used in production. Check out https://docs.composio.dev/sdk/python/actions for more information.\n",
      "  warnings.warn(\n"
     ]
    }
   ],
   "source": [
    "toolset = ComposioToolSet()\n",
    "\n",
    "tools = toolset.get_tools(apps=[App.GOOGLECALENDAR])"
   ]
  },
  {
   "cell_type": "code",
   "execution_count": 3,
   "metadata": {},
   "outputs": [
    {
     "data": {
      "text/plain": [
       "[{'type': 'function',\n",
       "  'function': {'name': 'GOOGLECALENDAR_CREATE_EVENT',\n",
       "   'description': 'Create a new event in a Google Calendar.',\n",
       "   'parameters': {'properties': {'description': {'default': None,\n",
       "      'description': 'Description of the event. Can contain HTML. Optional. Please provide a value of type string.',\n",
       "      'title': 'Description',\n",
       "      'type': 'string'},\n",
       "     'eventType': {'default': 'default',\n",
       "      'description': \"Type of the event, immutable post-creation. Currently, only 'default' and 'workingLocation' can be created. Note: choose value only from following options - ['default', 'outOfOffice', 'focusTime', 'workingLocation']. Please provide a value of type string.\",\n",
       "      'enum': ['default', 'outOfOffice', 'focusTime', 'workingLocation'],\n",
       "      'title': 'EventType',\n",
       "      'type': 'string'},\n",
       "     'create_meeting_room': {'default': None,\n",
       "      'description': 'Whether to create a google meet event. If set to true, a link to the google meet event will be created and added to the event. Please provide a value of type boolean.',\n",
       "      'title': 'Create Meeting Room',\n",
       "      'type': 'boolean'},\n",
       "     'guestsCanSeeOtherGuests': {'default': None,\n",
       "      'description': \"Whether attendees other than the organizer can see who the event's attendees are. Please provide a value of type boolean.\",\n",
       "      'title': 'Guestscanseeotherguests',\n",
       "      'type': 'boolean'},\n",
       "     'guestsCanInviteOthers': {'default': None,\n",
       "      'description': 'Whether attendees other than the organizer can invite others to the event. Please provide a value of type boolean.',\n",
       "      'title': 'Guestscaninviteothers',\n",
       "      'type': 'boolean'},\n",
       "     'location': {'default': None,\n",
       "      'description': 'Geographic location of the event as free-form text. Please provide a value of type string.',\n",
       "      'title': 'Location',\n",
       "      'type': 'string'},\n",
       "     'summary': {'default': None,\n",
       "      'description': 'Summary of the event. Title of the event. Please provide a value of type string.',\n",
       "      'title': 'Summary',\n",
       "      'type': 'string'},\n",
       "     'transparency': {'default': 'opaque',\n",
       "      'description': \"Event's calendar block status: 'opaque' (busy) or 'transparent' (available). Note: choose value only from following options - ['opaque', 'transparent']. Please provide a value of type string.\",\n",
       "      'enum': ['opaque', 'transparent'],\n",
       "      'title': 'EventTransparency',\n",
       "      'type': 'string'},\n",
       "     'visibility': {'default': 'default',\n",
       "      'description': \"Visibility of the event ('default', 'public', 'private', 'confidential'). Note: choose value only from following options - ['default', 'public', 'private', 'confidential']. Please provide a value of type string.\",\n",
       "      'enum': ['default', 'public', 'private', 'confidential'],\n",
       "      'title': 'EventVisibility',\n",
       "      'type': 'string'},\n",
       "     'recurrence': {'default': None,\n",
       "      'description': 'List of RRULE, EXRULE, RDATE and EXDATE lines for a recurring event, as specified in RFC5545.\\n        Note that DTSTART and DTEND lines are not allowed in this field; event start and end times are specified in the start and end fields. \\n        This field is omitted for single events or instances of recurring events.',\n",
       "      'examples': ['RRULE:FREQ=DAILY;COUNT=2', 'EXRULE:FREQ=DAILY;COUNT=1'],\n",
       "      'items': {'type': 'string'},\n",
       "      'title': 'Recurrence',\n",
       "      'type': 'array'},\n",
       "     'timezone': {'default': None,\n",
       "      'description': 'Timezone of the event. As an example: America/New_York. Necessary only if notmentioned in Start Date. Please provide a value of type string.',\n",
       "      'examples': ['America/New_York'],\n",
       "      'title': 'Timezone',\n",
       "      'type': 'string'},\n",
       "     'guests_can_modify': {'default': False,\n",
       "      'description': 'Indicates whether guests can modify the event. Please provide a value of type boolean.',\n",
       "      'examples': [True, False],\n",
       "      'title': 'Guests Can Modify',\n",
       "      'type': 'boolean'},\n",
       "     'attendees': {'default': None,\n",
       "      'description': 'List of emails of attendees for the event. This should strictly be a list of strings (each string an email ID). It must not be any dict or list of dict.',\n",
       "      'examples': [['john@doe.com', 'rock@json.com'], ['sam@gmail.com']],\n",
       "      'items': {'type': 'string'},\n",
       "      'title': 'Attendees',\n",
       "      'type': 'array'},\n",
       "     'send_updates': {'default': None,\n",
       "      'description': 'Defaults to True. Whether to send updates to the attendees of the event. Please provide a value of type boolean.',\n",
       "      'examples': [True, False],\n",
       "      'title': 'Send Updates',\n",
       "      'type': 'boolean'},\n",
       "     'start_datetime': {'description': 'Start date and time of the event. The start of the interval for the query in the following format. \\nSome examples of expected datetime format:\\n\\tUTC-5:30, 6:50 PM\\t->If date is not mentioned, and seeming that the start date is in next 24 hours.\\n\\tUTC+1, 11:59 PM, 31 Dec\\t->If the meeting start date is in next 1 year (this is most possible case)\\n\\tUTC-3:45, 7:15 AM, 22 Aug 2020\\t->If the meeting is to be set after at a spefic date, mentioned with year.\\n\\t11:15 PM, 12 May 2019\\t->In case no UTC offset to be mentioned, skip the UTC part altogether.\\n\\t2023-03-01T00:00:00Z\\t->Standard ISO-8601 format. Please provide a value of type string. This parameter is required.',\n",
       "      'examples': ['UTC-5:30, 6:50 PM',\n",
       "       'UTC+1, 11:59 PM, 31 Dec',\n",
       "       'UTC-3:45, 7:15 AM, 22 Aug 2020',\n",
       "       '11:15 PM, 12 May 2019',\n",
       "       '2023-03-01T00:00:00Z'],\n",
       "      'title': 'Start Datetime',\n",
       "      'type': 'string'},\n",
       "     'event_duration': {'description': \"Duration of the meeting event to be set, in a format like '3h30m', '2h', or '20m'. Please provide a value of type string. This parameter is required.\",\n",
       "      'examples': ['3h30m', '2h', '20m'],\n",
       "      'title': 'Event Duration',\n",
       "      'type': 'string'},\n",
       "     'calendar_id': {'default': 'primary',\n",
       "      'description': 'The ID of the Google Calendar. `primary` for interacting with the primary calendar. Please provide a value of type string.',\n",
       "      'examples': ['primary', 'user@gmail.com'],\n",
       "      'title': 'Calendar Id',\n",
       "      'type': 'string'}},\n",
       "    'title': 'CreateEventRequest',\n",
       "    'type': 'object',\n",
       "    'required': ['start_datetime', 'event_duration']}}}]"
      ]
     },
     "execution_count": 3,
     "metadata": {},
     "output_type": "execute_result"
    }
   ],
   "source": [
    "tools[:1]"
   ]
  },
  {
   "cell_type": "code",
   "execution_count": 4,
   "metadata": {},
   "outputs": [],
   "source": [
    "from crewai_tools import BaseTool\n",
    "\n",
    "class MyCustomTool(BaseTool):\n",
    "    name: str = \"Name of my tool\"\n",
    "    number : int = 0\n",
    "\n",
    "    if number == 1:\n",
    "        description:str = \"nothing\"\n",
    "    else:\n",
    "        description: str = \"Clear description for what this tool is useful for, your agent will need this information to use it.\"\n",
    "\n",
    "    def _run(self, argument: str) -> str:\n",
    "        if self.number == 1:\n",
    "            self.description = 'Hello'\n",
    "        # Implementation goes here\n",
    "        return \"Result from custom tool\""
   ]
  },
  {
   "cell_type": "code",
   "execution_count": 10,
   "metadata": {},
   "outputs": [],
   "source": [
    "tools = []\n",
    "tools.append(MyCustomTool())\n",
    "tools.append(MyCustomTool(number=1))"
   ]
  },
  {
   "cell_type": "code",
   "execution_count": 7,
   "metadata": {},
   "outputs": [
    {
     "name": "stderr",
     "output_type": "stream",
     "text": [
      "[2024-09-12 21:00:58,040][INFO] Logging is set to INFO, use `logging_level` argument or `COMPOSIO_LOGGING_LEVEL` change this\n"
     ]
    }
   ],
   "source": [
    "mytools = ComposioToolSet().get_tools(actions=[Action.GOOGLECALENDAR_CREATE_EVENT])"
   ]
  },
  {
   "cell_type": "code",
   "execution_count": 8,
   "metadata": {},
   "outputs": [
    {
     "data": {
      "text/plain": [
       "[{'type': 'function',\n",
       "  'function': {'name': 'GOOGLECALENDAR_CREATE_EVENT',\n",
       "   'description': 'Create a new event in a Google Calendar.',\n",
       "   'parameters': {'properties': {'description': {'default': None,\n",
       "      'description': 'Description of the event. Can contain HTML. Optional. Please provide a value of type string.',\n",
       "      'title': 'Description',\n",
       "      'type': 'string'},\n",
       "     'eventType': {'default': 'default',\n",
       "      'description': \"Type of the event, immutable post-creation. Currently, only 'default' and 'workingLocation' can be created. Note: choose value only from following options - ['default', 'outOfOffice', 'focusTime', 'workingLocation']. Please provide a value of type string.\",\n",
       "      'enum': ['default', 'outOfOffice', 'focusTime', 'workingLocation'],\n",
       "      'title': 'EventType',\n",
       "      'type': 'string'},\n",
       "     'create_meeting_room': {'default': None,\n",
       "      'description': 'Whether to create a google meet event. If set to true, a link to the google meet event will be created and added to the event. Please provide a value of type boolean.',\n",
       "      'title': 'Create Meeting Room',\n",
       "      'type': 'boolean'},\n",
       "     'guestsCanSeeOtherGuests': {'default': None,\n",
       "      'description': \"Whether attendees other than the organizer can see who the event's attendees are. Please provide a value of type boolean.\",\n",
       "      'title': 'Guestscanseeotherguests',\n",
       "      'type': 'boolean'},\n",
       "     'guestsCanInviteOthers': {'default': None,\n",
       "      'description': 'Whether attendees other than the organizer can invite others to the event. Please provide a value of type boolean.',\n",
       "      'title': 'Guestscaninviteothers',\n",
       "      'type': 'boolean'},\n",
       "     'location': {'default': None,\n",
       "      'description': 'Geographic location of the event as free-form text. Please provide a value of type string.',\n",
       "      'title': 'Location',\n",
       "      'type': 'string'},\n",
       "     'summary': {'default': None,\n",
       "      'description': 'Summary of the event. Title of the event. Please provide a value of type string.',\n",
       "      'title': 'Summary',\n",
       "      'type': 'string'},\n",
       "     'transparency': {'default': 'opaque',\n",
       "      'description': \"Event's calendar block status: 'opaque' (busy) or 'transparent' (available). Note: choose value only from following options - ['opaque', 'transparent']. Please provide a value of type string.\",\n",
       "      'enum': ['opaque', 'transparent'],\n",
       "      'title': 'EventTransparency',\n",
       "      'type': 'string'},\n",
       "     'visibility': {'default': 'default',\n",
       "      'description': \"Visibility of the event ('default', 'public', 'private', 'confidential'). Note: choose value only from following options - ['default', 'public', 'private', 'confidential']. Please provide a value of type string.\",\n",
       "      'enum': ['default', 'public', 'private', 'confidential'],\n",
       "      'title': 'EventVisibility',\n",
       "      'type': 'string'},\n",
       "     'recurrence': {'default': None,\n",
       "      'description': 'List of RRULE, EXRULE, RDATE and EXDATE lines for a recurring event, as specified in RFC5545.\\n        Note that DTSTART and DTEND lines are not allowed in this field; event start and end times are specified in the start and end fields. \\n        This field is omitted for single events or instances of recurring events.',\n",
       "      'examples': ['RRULE:FREQ=DAILY;COUNT=2', 'EXRULE:FREQ=DAILY;COUNT=1'],\n",
       "      'items': {'type': 'string'},\n",
       "      'title': 'Recurrence',\n",
       "      'type': 'array'},\n",
       "     'timezone': {'default': None,\n",
       "      'description': 'Timezone of the event. As an example: America/New_York. Necessary only if notmentioned in Start Date. Please provide a value of type string.',\n",
       "      'examples': ['America/New_York'],\n",
       "      'title': 'Timezone',\n",
       "      'type': 'string'},\n",
       "     'guests_can_modify': {'default': False,\n",
       "      'description': 'Indicates whether guests can modify the event. Please provide a value of type boolean.',\n",
       "      'examples': [True, False],\n",
       "      'title': 'Guests Can Modify',\n",
       "      'type': 'boolean'},\n",
       "     'attendees': {'default': None,\n",
       "      'description': 'List of emails of attendees for the event. This should strictly be a list of strings (each string an email ID). It must not be any dict or list of dict.',\n",
       "      'examples': [['john@doe.com', 'rock@json.com'], ['sam@gmail.com']],\n",
       "      'items': {'type': 'string'},\n",
       "      'title': 'Attendees',\n",
       "      'type': 'array'},\n",
       "     'send_updates': {'default': None,\n",
       "      'description': 'Defaults to True. Whether to send updates to the attendees of the event. Please provide a value of type boolean.',\n",
       "      'examples': [True, False],\n",
       "      'title': 'Send Updates',\n",
       "      'type': 'boolean'},\n",
       "     'start_datetime': {'description': 'Start date and time of the event. The start of the interval for the query in the following format. \\nSome examples of expected datetime format:\\n\\tUTC-5:30, 6:50 PM\\t->If date is not mentioned, and seeming that the start date is in next 24 hours.\\n\\tUTC+1, 11:59 PM, 31 Dec\\t->If the meeting start date is in next 1 year (this is most possible case)\\n\\tUTC-3:45, 7:15 AM, 22 Aug 2020\\t->If the meeting is to be set after at a spefic date, mentioned with year.\\n\\t11:15 PM, 12 May 2019\\t->In case no UTC offset to be mentioned, skip the UTC part altogether.\\n\\t2023-03-01T00:00:00Z\\t->Standard ISO-8601 format. Please provide a value of type string. This parameter is required.',\n",
       "      'examples': ['UTC-5:30, 6:50 PM',\n",
       "       'UTC+1, 11:59 PM, 31 Dec',\n",
       "       'UTC-3:45, 7:15 AM, 22 Aug 2020',\n",
       "       '11:15 PM, 12 May 2019',\n",
       "       '2023-03-01T00:00:00Z'],\n",
       "      'title': 'Start Datetime',\n",
       "      'type': 'string'},\n",
       "     'event_duration': {'description': \"Duration of the meeting event to be set, in a format like '3h30m', '2h', or '20m'. Please provide a value of type string. This parameter is required.\",\n",
       "      'examples': ['3h30m', '2h', '20m'],\n",
       "      'title': 'Event Duration',\n",
       "      'type': 'string'},\n",
       "     'calendar_id': {'default': 'primary',\n",
       "      'description': 'The ID of the Google Calendar. `primary` for interacting with the primary calendar. Please provide a value of type string.',\n",
       "      'examples': ['primary', 'user@gmail.com'],\n",
       "      'title': 'Calendar Id',\n",
       "      'type': 'string'}},\n",
       "    'title': 'CreateEventRequest',\n",
       "    'type': 'object',\n",
       "    'required': ['start_datetime', 'event_duration']}}}]"
      ]
     },
     "execution_count": 8,
     "metadata": {},
     "output_type": "execute_result"
    }
   ],
   "source": [
    "mytools"
   ]
  },
  {
   "cell_type": "code",
   "execution_count": 14,
   "metadata": {},
   "outputs": [
    {
     "name": "stderr",
     "output_type": "stream",
     "text": [
      "[2024-09-12 21:08:30,401][INFO] Logging is set to INFO, use `logging_level` argument or `COMPOSIO_LOGGING_LEVEL` change this\n",
      "[2024-09-12 21:08:35,853][INFO] Executing `GMAIL_SEND_EMAIL` with params={'recipient_email': 'sawradip0@gmail.com', 'subject': 'Test Composio Attachment', 'body': 'defghijklm'} and metadata={}\n"
     ]
    },
    {
     "name": "stdout",
     "output_type": "stream",
     "text": [
      "ChatCompletion(id='chatcmpl-A6fisWZbLVXRP9dTYTrm4ZmnQn7C5', choices=[Choice(finish_reason='tool_calls', index=0, logprobs=None, message=ChatCompletionMessage(content=None, refusal=None, role='assistant', function_call=None, tool_calls=[ChatCompletionMessageToolCall(id='call_Sctv0l50Fy0KlxU42QWTp7E0', function=Function(arguments='{\"recipient_email\":\"sawradip0@gmail.com\",\"subject\":\"Test Composio Attachment\",\"body\":\"defghijklm\"}', name='GMAIL_SEND_EMAIL'), type='function')]))], created=1726153714, model='gpt-4-0125-preview', object='chat.completion', service_tier=None, system_fingerprint=None, usage=CompletionUsage(completion_tokens=38, prompt_tokens=473, total_tokens=511))\n"
     ]
    },
    {
     "name": "stderr",
     "output_type": "stream",
     "text": [
      "[2024-09-12 21:08:37,102][INFO] Got response={'successfull': True, 'data': {'response_data': {'id': '191e6c775531db72', 'threadId': '191e6c775531db72', 'labelIds': ['SENT']}}, 'error': None} from action=<composio.client.enums._action.Action object at 0x000001C08D00EBD0> with params={'rec...\n"
     ]
    },
    {
     "name": "stdout",
     "output_type": "stream",
     "text": [
      "[{'successfull': True, 'data': {'response_data': {'id': '191e6c775531db72', 'threadId': '191e6c775531db72', 'labelIds': ['SENT']}}, 'error': None}]\n"
     ]
    }
   ],
   "source": [
    "import dotenv\n",
    "from composio_openai import App, Action, ComposioToolSet\n",
    "from openai import OpenAI\n",
    "\n",
    "\n",
    "# Load environment variables from .env\n",
    "dotenv.load_dotenv()\n",
    "\n",
    "# Initialize tools.\n",
    "openai_client = OpenAI()\n",
    "composio_toolset = ComposioToolSet()\n",
    "\n",
    "# Define task.\n",
    "task = \"Send a mail to sawradip0@gmail.com, with `Test Composio Attachment` in subject, and `defghijklm` in body, and\"\n",
    "\n",
    "# Get GitHub tools that are pre-configured\n",
    "tools = composio_toolset.get_tools(\n",
    "    actions=[Action.GMAIL_SEND_EMAIL, Action.MATHEMATICAL_CALCULATOR]\n",
    ")\n",
    "\n",
    "# Get response from the LLM\n",
    "response = openai_client.chat.completions.create(\n",
    "    model=\"gpt-4-turbo-preview\",\n",
    "    tools=tools,\n",
    "    messages=[\n",
    "        {\"role\": \"system\", \"content\": \"You are a helpful assistant.\"},\n",
    "        {\"role\": \"user\", \"content\": task},\n",
    "    ],\n",
    ")\n",
    "print(response)\n",
    "\n",
    "# Execute the function calls.\n",
    "result = composio_toolset.handle_tool_calls(response)\n",
    "print(result)"
   ]
  }
 ],
 "metadata": {
  "kernelspec": {
   "display_name": "env",
   "language": "python",
   "name": "python3"
  },
  "language_info": {
   "codemirror_mode": {
    "name": "ipython",
    "version": 3
   },
   "file_extension": ".py",
   "mimetype": "text/x-python",
   "name": "python",
   "nbconvert_exporter": "python",
   "pygments_lexer": "ipython3",
   "version": "3.11.7"
  },
  "orig_nbformat": 4,
  "vscode": {
   "interpreter": {
    "hash": "ac62ce362d1a757bfd43803f2a16aafe37b0e79daff897a3beefc2ff79e3999c"
   }
  }
 },
 "nbformat": 4,
 "nbformat_minor": 2
}
