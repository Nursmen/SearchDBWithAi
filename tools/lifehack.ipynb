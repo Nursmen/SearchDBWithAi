{
 "cells": [
  {
   "cell_type": "code",
   "execution_count": 7,
   "metadata": {},
   "outputs": [],
   "source": [
    "# from composio_openai import ComposioToolSet, App\n",
    "from composio_crewai import Action, ComposioToolSet\n",
    "from openai import OpenAI\n",
    "\n",
    "import dotenv\n",
    "import pandas as pd"
   ]
  },
  {
   "cell_type": "code",
   "execution_count": 8,
   "metadata": {},
   "outputs": [
    {
     "name": "stderr",
     "output_type": "stream",
     "text": [
      "[2024-09-08 22:09:11,302][INFO] Logging is set to INFO, use `logging_level` argument or `COMPOSIO_LOGGING_LEVEL` change this\n"
     ]
    }
   ],
   "source": [
    "dotenv.load_dotenv()\n",
    "\n",
    "openai_client = OpenAI()\n",
    "composio_toolset = ComposioToolSet(entity_id=\"Jessica\")"
   ]
  },
  {
   "cell_type": "code",
   "execution_count": 9,
   "metadata": {},
   "outputs": [
    {
     "data": {
      "text/plain": [
       "<composio.client.enums._action.Action at 0x272ababc450>"
      ]
     },
     "execution_count": 9,
     "metadata": {},
     "output_type": "execute_result"
    }
   ],
   "source": [
    "Action.GOOGLECALENDAR_CREATE_EVENT"
   ]
  },
  {
   "cell_type": "code",
   "execution_count": 10,
   "metadata": {},
   "outputs": [
    {
     "data": {
      "text/plain": [
       "<composio.client.enums._action.Action at 0x272a8c2e510>"
      ]
     },
     "execution_count": 10,
     "metadata": {},
     "output_type": "execute_result"
    }
   ],
   "source": [
    "Action.DISCORDBOT_CREATE_DM"
   ]
  },
  {
   "cell_type": "code",
   "execution_count": 12,
   "metadata": {},
   "outputs": [
    {
     "data": {
      "text/plain": [
       "[StructuredTool(name='GOOGLECALENDAR_CREATE_EVENT', description='Create a new event in a Google Calendar.', args_schema=<class 'pydantic.v1.main.CreateEventRequest'>, func=<function ComposioToolSet._wrap_action.<locals>.function at 0x00000272C6760F40>)]"
      ]
     },
     "execution_count": 12,
     "metadata": {},
     "output_type": "execute_result"
    }
   ],
   "source": [
    "composio_toolset.get_tools(actions=[getattr(Action, tool) for tool in [\"GOOGLECALENDAR_CREATE_EVENT\"]])"
   ]
  },
  {
   "cell_type": "code",
   "execution_count": 15,
   "metadata": {},
   "outputs": [],
   "source": [
    "dicti = {\"oauth\":123}"
   ]
  },
  {
   "cell_type": "code",
   "execution_count": 16,
   "metadata": {},
   "outputs": [
    {
     "data": {
      "text/plain": [
       "['oauth']"
      ]
     },
     "execution_count": 16,
     "metadata": {},
     "output_type": "execute_result"
    }
   ],
   "source": [
    "list(dicti)"
   ]
  },
  {
   "cell_type": "code",
   "execution_count": 6,
   "metadata": {},
   "outputs": [],
   "source": [
    "import subprocess\n",
    "\n",
    "# Composio add Discord command\n",
    "command = \"composio add discord\"\n",
    "\n",
    "# Running the command and capturing the output\n",
    "result = subprocess.run(command, shell=True, capture_output=True, text=True)\n",
    "\n",
    "# Printing the output and error (if any)\n",
    "print(\"Output:\", result.stdout)\n",
    "print(\"Error:\", result.stderr)"
   ]
  },
  {
   "cell_type": "code",
   "execution_count": null,
   "metadata": {},
   "outputs": [
    {
     "data": {
      "text/html": [
       "<pre style=\"white-space:pre;overflow-x:auto;line-height:normal;font-family:Menlo,'DejaVu Sans Mono',consolas,'Courier New',monospace\">\n",
       "<span style=\"color: #008000; text-decoration-color: #008000\">&gt; Adding integration: Discord...</span>\n",
       "\n",
       "</pre>\n"
      ],
      "text/plain": [
       "\n",
       "\u001b[32m> Adding integration: Discord\u001b[0m\u001b[32m...\u001b[0m\n",
       "\n"
      ]
     },
     "metadata": {},
     "output_type": "display_data"
    },
    {
     "name": "stdout",
     "output_type": "stream",
     "text": [
      "Please authenticate discord in the browser and come back here. URL: https://discord.com/api/oauth2/authorize?client_id=1215698105417207858&redirect_uri=https%3A%2F%2Fbackend.composio.dev%2Fapi%2Fv1%2Fauth-apps%2Fadd&scope=identify+email&response_type=code&state=production_eyJhbGciOiJIUzI1NiIsInR5cCI6IkpXVCJ9.eyJjb25uZWN0aW9uSWQiOiJmZWNkNTUwYy1mZTQ2LTQzZGYtYTJlZC0yNDcyMGUyMTdmYTEiLCJpbnRlZ3JhdGlvbklkIjoiMTE1M2U0NWYtN2YxNC00NzU3LTliMTQtZDc0ZjY0YmM2YTFiIiwiYXBwTmFtZSI6ImRpc2NvcmQiLCJjbGllbnRJbmZvIjp7ImNsaWVudElkIjoiMTM5YWRlYmUtNjQwZS00NTkxLWJkYTMtYmUzZTY4NjczZGRlIn0sImlhdCI6MTcyNTgwNTEyNn0.fsOcwkXCsQaCiVZayvE2vKJIweFb4tHBf0jgENCof9o\n",
      "⚠ Waiting for discord authentication...\n",
      "\n",
      "Aborted!\n",
      "\n"
     ]
    }
   ],
   "source": [
    "from click.testing import CliRunner\n",
    "from composio.cli.add import _add\n",
    "\n",
    "# Assuming _add command and AddIntegrationExamples class are already defined.\n",
    "\n",
    "def run_add_integration():\n",
    "    runner = CliRunner()\n",
    "\n",
    "    # Example of running the command with arguments\n",
    "    result = runner.invoke(\n",
    "        _add, \n",
    "        [\n",
    "            'discord',                    # The app name\n",
    "            '--no-browser',                   # Option: don't open the browser\n",
    "        ]\n",
    "    )\n",
    "\n",
    "    print(result.output)  # Output the results of the command\n",
    "\n",
    "# Call the function to run the command programmatically\n",
    "run_add_integration()"
   ]
  },
  {
   "cell_type": "code",
   "execution_count": null,
   "metadata": {},
   "outputs": [
    {
     "data": {
      "text/plain": [
       "<composio.cli.context.Context at 0x218e52e5990>"
      ]
     },
     "execution_count": 18,
     "metadata": {},
     "output_type": "execute_result"
    }
   ],
   "source": [
    "from composio.cli.context import get_context\n",
    "\n",
    "get_context()"
   ]
  },
  {
   "cell_type": "code",
   "execution_count": null,
   "metadata": {},
   "outputs": [
    {
     "data": {
      "text/html": [
       "<pre style=\"white-space:pre;overflow-x:auto;line-height:normal;font-family:Menlo,'DejaVu Sans Mono',consolas,'Courier New',monospace\">\n",
       "<span style=\"color: #008000; text-decoration-color: #008000\">&gt; Adding integration: Discord...</span>\n",
       "\n",
       "</pre>\n"
      ],
      "text/plain": [
       "\n",
       "\u001b[32m> Adding integration: Discord\u001b[0m\u001b[32m...\u001b[0m\n",
       "\n"
      ]
     },
     "metadata": {},
     "output_type": "display_data"
    },
    {
     "name": "stdout",
     "output_type": "stream",
     "text": [
      "Please authenticate discord in the browser and come back here. URL: https://discord.com/api/oauth2/authorize?client_id=1215698105417207858&redirect_uri=https%3A%2F%2Fbackend.composio.dev%2Fapi%2Fv1%2Fauth-apps%2Fadd&scope=identify+email&response_type=code&state=production_eyJhbGciOiJIUzI1NiIsInR5cCI6IkpXVCJ9.eyJjb25uZWN0aW9uSWQiOiJkZTc3Y2I5OS1mYjU3LTRiNTgtOTg4Mi02MTM1MmY5NGY3MDUiLCJpbnRlZ3JhdGlvbklkIjoiMTE1M2U0NWYtN2YxNC00NzU3LTliMTQtZDc0ZjY0YmM2YTFiIiwiYXBwTmFtZSI6ImRpc2NvcmQiLCJjbGllbnRJbmZvIjp7ImNsaWVudElkIjoiMTM5YWRlYmUtNjQwZS00NTkxLWJkYTMtYmUzZTY4NjczZGRlIn0sImlhdCI6MTcyNTgwNTY2OH0.uq3-eCQldRxWpzW_rDves2nJVKEpfAntAheRAcXlnVY\n",
      "⚠ Waiting for discord authentication...\n"
     ]
    },
    {
     "ename": "KeyboardInterrupt",
     "evalue": "",
     "output_type": "error",
     "traceback": [
      "\u001b[1;31m---------------------------------------------------------------------------\u001b[0m",
      "\u001b[1;31mKeyboardInterrupt\u001b[0m                         Traceback (most recent call last)",
      "Cell \u001b[1;32mIn[21], line 4\u001b[0m\n\u001b[0;32m      1\u001b[0m \u001b[39mfrom\u001b[39;00m \u001b[39mcomposio\u001b[39;00m\u001b[39m.\u001b[39;00m\u001b[39mcli\u001b[39;00m\u001b[39m.\u001b[39;00m\u001b[39madd\u001b[39;00m \u001b[39mimport\u001b[39;00m add_integration\n\u001b[1;32m----> 4\u001b[0m \u001b[39mprint\u001b[39m(add_integration(\u001b[39m'\u001b[39;49m\u001b[39mdiscord\u001b[39;49m\u001b[39m'\u001b[39;49m, get_context(), no_browser\u001b[39m=\u001b[39;49m\u001b[39mTrue\u001b[39;49;00m))\n",
      "File \u001b[1;32md:\\Нурсултан\\Суб-навыки\\Работа\\Task1search\\env\\Lib\\site-packages\\composio\\cli\\add.py:247\u001b[0m, in \u001b[0;36madd_integration\u001b[1;34m(name, context, entity_id, integration_id, no_browser, auth_mode, scopes, force)\u001b[0m\n\u001b[0;32m    239\u001b[0m \u001b[39mif\u001b[39;00m auth_mode\u001b[39m.\u001b[39mlower() \u001b[39min\u001b[39;00m (\u001b[39m\"\u001b[39m\u001b[39mbasic\u001b[39m\u001b[39m\"\u001b[39m, \u001b[39m\"\u001b[39m\u001b[39mapi_key\u001b[39m\u001b[39m\"\u001b[39m):\n\u001b[0;32m    240\u001b[0m     \u001b[39mreturn\u001b[39;00m _handle_basic_auth(\n\u001b[0;32m    241\u001b[0m         entity\u001b[39m=\u001b[39mentity,\n\u001b[0;32m    242\u001b[0m         client\u001b[39m=\u001b[39mcontext\u001b[39m.\u001b[39mclient,\n\u001b[1;32m   (...)\u001b[0m\n\u001b[0;32m    245\u001b[0m         auth_scheme\u001b[39m=\u001b[39mauth_scheme,\n\u001b[0;32m    246\u001b[0m     )\n\u001b[1;32m--> 247\u001b[0m \u001b[39mreturn\u001b[39;00m _handle_oauth(\n\u001b[0;32m    248\u001b[0m     entity\u001b[39m=\u001b[39;49mentity,\n\u001b[0;32m    249\u001b[0m     client\u001b[39m=\u001b[39;49mcontext\u001b[39m.\u001b[39;49mclient,\n\u001b[0;32m    250\u001b[0m     app_name\u001b[39m=\u001b[39;49mname,\n\u001b[0;32m    251\u001b[0m     no_browser\u001b[39m=\u001b[39;49mno_browser,\n\u001b[0;32m    252\u001b[0m     integration\u001b[39m=\u001b[39;49mintegration,\n\u001b[0;32m    253\u001b[0m     scopes\u001b[39m=\u001b[39;49mscopes,\n\u001b[0;32m    254\u001b[0m )\n",
      "File \u001b[1;32md:\\Нурсултан\\Суб-навыки\\Работа\\Task1search\\env\\Lib\\site-packages\\composio\\cli\\add.py:294\u001b[0m, in \u001b[0;36m_handle_oauth\u001b[1;34m(entity, client, app_name, no_browser, integration, scopes)\u001b[0m\n\u001b[0;32m    289\u001b[0m click\u001b[39m.\u001b[39mecho(\n\u001b[0;32m    290\u001b[0m     \u001b[39mf\u001b[39m\u001b[39m\"\u001b[39m\u001b[39mPlease authenticate \u001b[39m\u001b[39m{\u001b[39;00mapp_name\u001b[39m}\u001b[39;00m\u001b[39m in the browser and come back here. \u001b[39m\u001b[39m\"\u001b[39m\n\u001b[0;32m    291\u001b[0m     \u001b[39mf\u001b[39m\u001b[39m\"\u001b[39m\u001b[39mURL: \u001b[39m\u001b[39m{\u001b[39;00mconnection\u001b[39m.\u001b[39mredirectUrl\u001b[39m}\u001b[39;00m\u001b[39m\"\u001b[39m\n\u001b[0;32m    292\u001b[0m )\n\u001b[0;32m    293\u001b[0m click\u001b[39m.\u001b[39mecho(\u001b[39mf\u001b[39m\u001b[39m\"\u001b[39m\u001b[39m⚠ Waiting for \u001b[39m\u001b[39m{\u001b[39;00mapp_name\u001b[39m}\u001b[39;00m\u001b[39m authentication...\u001b[39m\u001b[39m\"\u001b[39m)\n\u001b[1;32m--> 294\u001b[0m connection\u001b[39m.\u001b[39;49mwait_until_active(client\u001b[39m=\u001b[39;49mclient)\n\u001b[0;32m    295\u001b[0m click\u001b[39m.\u001b[39mecho(\u001b[39mf\u001b[39m\u001b[39m\"\u001b[39m\u001b[39m✔ \u001b[39m\u001b[39m{\u001b[39;00mapp_name\u001b[39m}\u001b[39;00m\u001b[39m added successfully!\u001b[39m\u001b[39m\"\u001b[39m)\n",
      "File \u001b[1;32md:\\Нурсултан\\Суб-навыки\\Работа\\Task1search\\env\\Lib\\site-packages\\composio\\client\\collections.py:119\u001b[0m, in \u001b[0;36mConnectionRequestModel.wait_until_active\u001b[1;34m(self, client, timeout)\u001b[0m\n\u001b[0;32m    117\u001b[0m start_time \u001b[39m=\u001b[39m time\u001b[39m.\u001b[39mtime()\n\u001b[0;32m    118\u001b[0m \u001b[39mwhile\u001b[39;00m time\u001b[39m.\u001b[39mtime() \u001b[39m-\u001b[39m start_time \u001b[39m<\u001b[39m timeout:\n\u001b[1;32m--> 119\u001b[0m     connection \u001b[39m=\u001b[39m client\u001b[39m.\u001b[39;49mconnected_accounts\u001b[39m.\u001b[39;49mget(  \u001b[39m# type: ignore\u001b[39;49;00m\n\u001b[0;32m    120\u001b[0m         connection_id\u001b[39m=\u001b[39;49m\u001b[39mself\u001b[39;49m\u001b[39m.\u001b[39;49mconnectedAccountId,\n\u001b[0;32m    121\u001b[0m     )\n\u001b[0;32m    122\u001b[0m     \u001b[39mif\u001b[39;00m connection\u001b[39m.\u001b[39mstatus \u001b[39m==\u001b[39m \u001b[39m\"\u001b[39m\u001b[39mACTIVE\u001b[39m\u001b[39m\"\u001b[39m:\n\u001b[0;32m    123\u001b[0m         \u001b[39mreturn\u001b[39;00m connection\n",
      "File \u001b[1;32md:\\Нурсултан\\Суб-навыки\\Работа\\Task1search\\env\\Lib\\site-packages\\composio\\client\\collections.py:185\u001b[0m, in \u001b[0;36mConnectedAccounts.get\u001b[1;34m(self, connection_id, entity_ids, active)\u001b[0m\n\u001b[0;32m    179\u001b[0m     \u001b[39mraise\u001b[39;00m ComposioClientError(\n\u001b[0;32m    180\u001b[0m         message\u001b[39m=\u001b[39m\u001b[39m\"\u001b[39m\u001b[39mCannot use both `connection_id` and `entity_ids` parameters as filter\u001b[39m\u001b[39m\"\u001b[39m\n\u001b[0;32m    181\u001b[0m     )\n\u001b[0;32m    183\u001b[0m \u001b[39mif\u001b[39;00m connection_id \u001b[39mis\u001b[39;00m \u001b[39mnot\u001b[39;00m \u001b[39mNone\u001b[39;00m:\n\u001b[0;32m    184\u001b[0m     response \u001b[39m=\u001b[39m \u001b[39mself\u001b[39m\u001b[39m.\u001b[39m_raise_if_required(\n\u001b[1;32m--> 185\u001b[0m         \u001b[39mself\u001b[39;49m\u001b[39m.\u001b[39;49mclient\u001b[39m.\u001b[39;49mhttp\u001b[39m.\u001b[39;49mget(\n\u001b[0;32m    186\u001b[0m             url\u001b[39m=\u001b[39;49m\u001b[39mstr\u001b[39;49m(\u001b[39mself\u001b[39;49m\u001b[39m.\u001b[39;49mendpoint \u001b[39m/\u001b[39;49m connection_id),\n\u001b[0;32m    187\u001b[0m         )\n\u001b[0;32m    188\u001b[0m     )\n\u001b[0;32m    189\u001b[0m     \u001b[39mreturn\u001b[39;00m \u001b[39mself\u001b[39m\u001b[39m.\u001b[39mmodel(\u001b[39m*\u001b[39m\u001b[39m*\u001b[39mresponse\u001b[39m.\u001b[39mjson())\n\u001b[0;32m    191\u001b[0m quries \u001b[39m=\u001b[39m {}\n",
      "File \u001b[1;32md:\\Нурсултан\\Суб-навыки\\Работа\\Task1search\\env\\Lib\\site-packages\\composio\\client\\http.py:112\u001b[0m, in \u001b[0;36mHttpClient._wrap.<locals>.request\u001b[1;34m(url, **kwargs)\u001b[0m\n\u001b[0;32m    110\u001b[0m \u001b[39mwhile\u001b[39;00m retries \u001b[39m<\u001b[39m \u001b[39m3\u001b[39m:\n\u001b[0;32m    111\u001b[0m     \u001b[39mtry\u001b[39;00m:\n\u001b[1;32m--> 112\u001b[0m         \u001b[39mreturn\u001b[39;00m method(\n\u001b[0;32m    113\u001b[0m             url\u001b[39m=\u001b[39;49m\u001b[39mf\u001b[39;49m\u001b[39m\"\u001b[39;49m\u001b[39m{\u001b[39;49;00m\u001b[39mself\u001b[39;49m\u001b[39m.\u001b[39;49mbase_url\u001b[39m}\u001b[39;49;00m\u001b[39m{\u001b[39;49;00murl\u001b[39m}\u001b[39;49;00m\u001b[39m\"\u001b[39;49m,\n\u001b[0;32m    114\u001b[0m             timeout\u001b[39m=\u001b[39;49m\u001b[39mself\u001b[39;49m\u001b[39m.\u001b[39;49mtimeout,\n\u001b[0;32m    115\u001b[0m             \u001b[39m*\u001b[39;49m\u001b[39m*\u001b[39;49mkwargs,\n\u001b[0;32m    116\u001b[0m         )\n\u001b[0;32m    117\u001b[0m     \u001b[39mexcept\u001b[39;00m ReadTimeout:\n\u001b[0;32m    118\u001b[0m         retries \u001b[39m+\u001b[39m\u001b[39m=\u001b[39m \u001b[39m1\u001b[39m\n",
      "File \u001b[1;32md:\\Нурсултан\\Суб-навыки\\Работа\\Task1search\\env\\Lib\\site-packages\\requests\\sessions.py:602\u001b[0m, in \u001b[0;36mSession.get\u001b[1;34m(self, url, **kwargs)\u001b[0m\n\u001b[0;32m    594\u001b[0m \u001b[39m\u001b[39m\u001b[39mr\u001b[39m\u001b[39m\"\"\"Sends a GET request. Returns :class:`Response` object.\u001b[39;00m\n\u001b[0;32m    595\u001b[0m \n\u001b[0;32m    596\u001b[0m \u001b[39m:param url: URL for the new :class:`Request` object.\u001b[39;00m\n\u001b[0;32m    597\u001b[0m \u001b[39m:param \\*\\*kwargs: Optional arguments that ``request`` takes.\u001b[39;00m\n\u001b[0;32m    598\u001b[0m \u001b[39m:rtype: requests.Response\u001b[39;00m\n\u001b[0;32m    599\u001b[0m \u001b[39m\"\"\"\u001b[39;00m\n\u001b[0;32m    601\u001b[0m kwargs\u001b[39m.\u001b[39msetdefault(\u001b[39m\"\u001b[39m\u001b[39mallow_redirects\u001b[39m\u001b[39m\"\u001b[39m, \u001b[39mTrue\u001b[39;00m)\n\u001b[1;32m--> 602\u001b[0m \u001b[39mreturn\u001b[39;00m \u001b[39mself\u001b[39;49m\u001b[39m.\u001b[39;49mrequest(\u001b[39m\"\u001b[39;49m\u001b[39mGET\u001b[39;49m\u001b[39m\"\u001b[39;49m, url, \u001b[39m*\u001b[39;49m\u001b[39m*\u001b[39;49mkwargs)\n",
      "File \u001b[1;32md:\\Нурсултан\\Суб-навыки\\Работа\\Task1search\\env\\Lib\\site-packages\\requests\\sessions.py:589\u001b[0m, in \u001b[0;36mSession.request\u001b[1;34m(self, method, url, params, data, headers, cookies, files, auth, timeout, allow_redirects, proxies, hooks, stream, verify, cert, json)\u001b[0m\n\u001b[0;32m    584\u001b[0m send_kwargs \u001b[39m=\u001b[39m {\n\u001b[0;32m    585\u001b[0m     \u001b[39m\"\u001b[39m\u001b[39mtimeout\u001b[39m\u001b[39m\"\u001b[39m: timeout,\n\u001b[0;32m    586\u001b[0m     \u001b[39m\"\u001b[39m\u001b[39mallow_redirects\u001b[39m\u001b[39m\"\u001b[39m: allow_redirects,\n\u001b[0;32m    587\u001b[0m }\n\u001b[0;32m    588\u001b[0m send_kwargs\u001b[39m.\u001b[39mupdate(settings)\n\u001b[1;32m--> 589\u001b[0m resp \u001b[39m=\u001b[39m \u001b[39mself\u001b[39;49m\u001b[39m.\u001b[39;49msend(prep, \u001b[39m*\u001b[39;49m\u001b[39m*\u001b[39;49msend_kwargs)\n\u001b[0;32m    591\u001b[0m \u001b[39mreturn\u001b[39;00m resp\n",
      "File \u001b[1;32md:\\Нурсултан\\Суб-навыки\\Работа\\Task1search\\env\\Lib\\site-packages\\requests\\sessions.py:703\u001b[0m, in \u001b[0;36mSession.send\u001b[1;34m(self, request, **kwargs)\u001b[0m\n\u001b[0;32m    700\u001b[0m start \u001b[39m=\u001b[39m preferred_clock()\n\u001b[0;32m    702\u001b[0m \u001b[39m# Send the request\u001b[39;00m\n\u001b[1;32m--> 703\u001b[0m r \u001b[39m=\u001b[39m adapter\u001b[39m.\u001b[39;49msend(request, \u001b[39m*\u001b[39;49m\u001b[39m*\u001b[39;49mkwargs)\n\u001b[0;32m    705\u001b[0m \u001b[39m# Total elapsed time of the request (approximately)\u001b[39;00m\n\u001b[0;32m    706\u001b[0m elapsed \u001b[39m=\u001b[39m preferred_clock() \u001b[39m-\u001b[39m start\n",
      "File \u001b[1;32md:\\Нурсултан\\Суб-навыки\\Работа\\Task1search\\env\\Lib\\site-packages\\requests\\adapters.py:667\u001b[0m, in \u001b[0;36mHTTPAdapter.send\u001b[1;34m(self, request, stream, timeout, verify, cert, proxies)\u001b[0m\n\u001b[0;32m    664\u001b[0m     timeout \u001b[39m=\u001b[39m TimeoutSauce(connect\u001b[39m=\u001b[39mtimeout, read\u001b[39m=\u001b[39mtimeout)\n\u001b[0;32m    666\u001b[0m \u001b[39mtry\u001b[39;00m:\n\u001b[1;32m--> 667\u001b[0m     resp \u001b[39m=\u001b[39m conn\u001b[39m.\u001b[39;49murlopen(\n\u001b[0;32m    668\u001b[0m         method\u001b[39m=\u001b[39;49mrequest\u001b[39m.\u001b[39;49mmethod,\n\u001b[0;32m    669\u001b[0m         url\u001b[39m=\u001b[39;49murl,\n\u001b[0;32m    670\u001b[0m         body\u001b[39m=\u001b[39;49mrequest\u001b[39m.\u001b[39;49mbody,\n\u001b[0;32m    671\u001b[0m         headers\u001b[39m=\u001b[39;49mrequest\u001b[39m.\u001b[39;49mheaders,\n\u001b[0;32m    672\u001b[0m         redirect\u001b[39m=\u001b[39;49m\u001b[39mFalse\u001b[39;49;00m,\n\u001b[0;32m    673\u001b[0m         assert_same_host\u001b[39m=\u001b[39;49m\u001b[39mFalse\u001b[39;49;00m,\n\u001b[0;32m    674\u001b[0m         preload_content\u001b[39m=\u001b[39;49m\u001b[39mFalse\u001b[39;49;00m,\n\u001b[0;32m    675\u001b[0m         decode_content\u001b[39m=\u001b[39;49m\u001b[39mFalse\u001b[39;49;00m,\n\u001b[0;32m    676\u001b[0m         retries\u001b[39m=\u001b[39;49m\u001b[39mself\u001b[39;49m\u001b[39m.\u001b[39;49mmax_retries,\n\u001b[0;32m    677\u001b[0m         timeout\u001b[39m=\u001b[39;49mtimeout,\n\u001b[0;32m    678\u001b[0m         chunked\u001b[39m=\u001b[39;49mchunked,\n\u001b[0;32m    679\u001b[0m     )\n\u001b[0;32m    681\u001b[0m \u001b[39mexcept\u001b[39;00m (ProtocolError, \u001b[39mOSError\u001b[39;00m) \u001b[39mas\u001b[39;00m err:\n\u001b[0;32m    682\u001b[0m     \u001b[39mraise\u001b[39;00m \u001b[39mConnectionError\u001b[39;00m(err, request\u001b[39m=\u001b[39mrequest)\n",
      "File \u001b[1;32md:\\Нурсултан\\Суб-навыки\\Работа\\Task1search\\env\\Lib\\site-packages\\urllib3\\connectionpool.py:789\u001b[0m, in \u001b[0;36mHTTPConnectionPool.urlopen\u001b[1;34m(self, method, url, body, headers, retries, redirect, assert_same_host, timeout, pool_timeout, release_conn, chunked, body_pos, preload_content, decode_content, **response_kw)\u001b[0m\n\u001b[0;32m    786\u001b[0m response_conn \u001b[39m=\u001b[39m conn \u001b[39mif\u001b[39;00m \u001b[39mnot\u001b[39;00m release_conn \u001b[39melse\u001b[39;00m \u001b[39mNone\u001b[39;00m\n\u001b[0;32m    788\u001b[0m \u001b[39m# Make the request on the HTTPConnection object\u001b[39;00m\n\u001b[1;32m--> 789\u001b[0m response \u001b[39m=\u001b[39m \u001b[39mself\u001b[39;49m\u001b[39m.\u001b[39;49m_make_request(\n\u001b[0;32m    790\u001b[0m     conn,\n\u001b[0;32m    791\u001b[0m     method,\n\u001b[0;32m    792\u001b[0m     url,\n\u001b[0;32m    793\u001b[0m     timeout\u001b[39m=\u001b[39;49mtimeout_obj,\n\u001b[0;32m    794\u001b[0m     body\u001b[39m=\u001b[39;49mbody,\n\u001b[0;32m    795\u001b[0m     headers\u001b[39m=\u001b[39;49mheaders,\n\u001b[0;32m    796\u001b[0m     chunked\u001b[39m=\u001b[39;49mchunked,\n\u001b[0;32m    797\u001b[0m     retries\u001b[39m=\u001b[39;49mretries,\n\u001b[0;32m    798\u001b[0m     response_conn\u001b[39m=\u001b[39;49mresponse_conn,\n\u001b[0;32m    799\u001b[0m     preload_content\u001b[39m=\u001b[39;49mpreload_content,\n\u001b[0;32m    800\u001b[0m     decode_content\u001b[39m=\u001b[39;49mdecode_content,\n\u001b[0;32m    801\u001b[0m     \u001b[39m*\u001b[39;49m\u001b[39m*\u001b[39;49mresponse_kw,\n\u001b[0;32m    802\u001b[0m )\n\u001b[0;32m    804\u001b[0m \u001b[39m# Everything went great!\u001b[39;00m\n\u001b[0;32m    805\u001b[0m clean_exit \u001b[39m=\u001b[39m \u001b[39mTrue\u001b[39;00m\n",
      "File \u001b[1;32md:\\Нурсултан\\Суб-навыки\\Работа\\Task1search\\env\\Lib\\site-packages\\urllib3\\connectionpool.py:536\u001b[0m, in \u001b[0;36mHTTPConnectionPool._make_request\u001b[1;34m(self, conn, method, url, body, headers, retries, timeout, chunked, response_conn, preload_content, decode_content, enforce_content_length)\u001b[0m\n\u001b[0;32m    534\u001b[0m \u001b[39m# Receive the response from the server\u001b[39;00m\n\u001b[0;32m    535\u001b[0m \u001b[39mtry\u001b[39;00m:\n\u001b[1;32m--> 536\u001b[0m     response \u001b[39m=\u001b[39m conn\u001b[39m.\u001b[39;49mgetresponse()\n\u001b[0;32m    537\u001b[0m \u001b[39mexcept\u001b[39;00m (BaseSSLError, \u001b[39mOSError\u001b[39;00m) \u001b[39mas\u001b[39;00m e:\n\u001b[0;32m    538\u001b[0m     \u001b[39mself\u001b[39m\u001b[39m.\u001b[39m_raise_timeout(err\u001b[39m=\u001b[39me, url\u001b[39m=\u001b[39murl, timeout_value\u001b[39m=\u001b[39mread_timeout)\n",
      "File \u001b[1;32md:\\Нурсултан\\Суб-навыки\\Работа\\Task1search\\env\\Lib\\site-packages\\urllib3\\connection.py:464\u001b[0m, in \u001b[0;36mHTTPConnection.getresponse\u001b[1;34m(self)\u001b[0m\n\u001b[0;32m    461\u001b[0m \u001b[39mfrom\u001b[39;00m \u001b[39m.\u001b[39;00m\u001b[39mresponse\u001b[39;00m \u001b[39mimport\u001b[39;00m HTTPResponse\n\u001b[0;32m    463\u001b[0m \u001b[39m# Get the response from http.client.HTTPConnection\u001b[39;00m\n\u001b[1;32m--> 464\u001b[0m httplib_response \u001b[39m=\u001b[39m \u001b[39msuper\u001b[39;49m()\u001b[39m.\u001b[39;49mgetresponse()\n\u001b[0;32m    466\u001b[0m \u001b[39mtry\u001b[39;00m:\n\u001b[0;32m    467\u001b[0m     assert_header_parsing(httplib_response\u001b[39m.\u001b[39mmsg)\n",
      "File \u001b[1;32md:\\Нурсултан\\Суб-навыки\\Работа\\Task1search\\env\\Lib\\site-packages\\sentry_sdk\\integrations\\stdlib.py:129\u001b[0m, in \u001b[0;36m_install_httplib.<locals>.getresponse\u001b[1;34m(self, *args, **kwargs)\u001b[0m\n\u001b[0;32m    126\u001b[0m \u001b[39mif\u001b[39;00m span \u001b[39mis\u001b[39;00m \u001b[39mNone\u001b[39;00m:\n\u001b[0;32m    127\u001b[0m     \u001b[39mreturn\u001b[39;00m real_getresponse(\u001b[39mself\u001b[39m, \u001b[39m*\u001b[39margs, \u001b[39m*\u001b[39m\u001b[39m*\u001b[39mkwargs)\n\u001b[1;32m--> 129\u001b[0m rv \u001b[39m=\u001b[39m real_getresponse(\u001b[39mself\u001b[39;49m, \u001b[39m*\u001b[39;49margs, \u001b[39m*\u001b[39;49m\u001b[39m*\u001b[39;49mkwargs)\n\u001b[0;32m    131\u001b[0m span\u001b[39m.\u001b[39mset_http_status(\u001b[39mint\u001b[39m(rv\u001b[39m.\u001b[39mstatus))\n\u001b[0;32m    132\u001b[0m span\u001b[39m.\u001b[39mset_data(\u001b[39m\"\u001b[39m\u001b[39mreason\u001b[39m\u001b[39m\"\u001b[39m, rv\u001b[39m.\u001b[39mreason)\n",
      "File \u001b[1;32m~\\anaconda3\\Lib\\http\\client.py:1386\u001b[0m, in \u001b[0;36mHTTPConnection.getresponse\u001b[1;34m(self)\u001b[0m\n\u001b[0;32m   1384\u001b[0m \u001b[39mtry\u001b[39;00m:\n\u001b[0;32m   1385\u001b[0m     \u001b[39mtry\u001b[39;00m:\n\u001b[1;32m-> 1386\u001b[0m         response\u001b[39m.\u001b[39;49mbegin()\n\u001b[0;32m   1387\u001b[0m     \u001b[39mexcept\u001b[39;00m \u001b[39mConnectionError\u001b[39;00m:\n\u001b[0;32m   1388\u001b[0m         \u001b[39mself\u001b[39m\u001b[39m.\u001b[39mclose()\n",
      "File \u001b[1;32m~\\anaconda3\\Lib\\http\\client.py:325\u001b[0m, in \u001b[0;36mHTTPResponse.begin\u001b[1;34m(self)\u001b[0m\n\u001b[0;32m    323\u001b[0m \u001b[39m# read until we get a non-100 response\u001b[39;00m\n\u001b[0;32m    324\u001b[0m \u001b[39mwhile\u001b[39;00m \u001b[39mTrue\u001b[39;00m:\n\u001b[1;32m--> 325\u001b[0m     version, status, reason \u001b[39m=\u001b[39m \u001b[39mself\u001b[39;49m\u001b[39m.\u001b[39;49m_read_status()\n\u001b[0;32m    326\u001b[0m     \u001b[39mif\u001b[39;00m status \u001b[39m!=\u001b[39m CONTINUE:\n\u001b[0;32m    327\u001b[0m         \u001b[39mbreak\u001b[39;00m\n",
      "File \u001b[1;32m~\\anaconda3\\Lib\\http\\client.py:286\u001b[0m, in \u001b[0;36mHTTPResponse._read_status\u001b[1;34m(self)\u001b[0m\n\u001b[0;32m    285\u001b[0m \u001b[39mdef\u001b[39;00m \u001b[39m_read_status\u001b[39m(\u001b[39mself\u001b[39m):\n\u001b[1;32m--> 286\u001b[0m     line \u001b[39m=\u001b[39m \u001b[39mstr\u001b[39m(\u001b[39mself\u001b[39m\u001b[39m.\u001b[39mfp\u001b[39m.\u001b[39mreadline(_MAXLINE \u001b[39m+\u001b[39m \u001b[39m1\u001b[39m), \u001b[39m\"\u001b[39m\u001b[39miso-8859-1\u001b[39m\u001b[39m\"\u001b[39m)\n\u001b[0;32m    287\u001b[0m     \u001b[39mif\u001b[39;00m \u001b[39mlen\u001b[39m(line) \u001b[39m>\u001b[39m _MAXLINE:\n\u001b[0;32m    288\u001b[0m         \u001b[39mraise\u001b[39;00m LineTooLong(\u001b[39m\"\u001b[39m\u001b[39mstatus line\u001b[39m\u001b[39m\"\u001b[39m)\n",
      "File \u001b[1;32m~\\anaconda3\\Lib\\socket.py:706\u001b[0m, in \u001b[0;36mSocketIO.readinto\u001b[1;34m(self, b)\u001b[0m\n\u001b[0;32m    704\u001b[0m \u001b[39mwhile\u001b[39;00m \u001b[39mTrue\u001b[39;00m:\n\u001b[0;32m    705\u001b[0m     \u001b[39mtry\u001b[39;00m:\n\u001b[1;32m--> 706\u001b[0m         \u001b[39mreturn\u001b[39;00m \u001b[39mself\u001b[39;49m\u001b[39m.\u001b[39;49m_sock\u001b[39m.\u001b[39;49mrecv_into(b)\n\u001b[0;32m    707\u001b[0m     \u001b[39mexcept\u001b[39;00m timeout:\n\u001b[0;32m    708\u001b[0m         \u001b[39mself\u001b[39m\u001b[39m.\u001b[39m_timeout_occurred \u001b[39m=\u001b[39m \u001b[39mTrue\u001b[39;00m\n",
      "File \u001b[1;32m~\\anaconda3\\Lib\\ssl.py:1315\u001b[0m, in \u001b[0;36mSSLSocket.recv_into\u001b[1;34m(self, buffer, nbytes, flags)\u001b[0m\n\u001b[0;32m   1311\u001b[0m     \u001b[39mif\u001b[39;00m flags \u001b[39m!=\u001b[39m \u001b[39m0\u001b[39m:\n\u001b[0;32m   1312\u001b[0m         \u001b[39mraise\u001b[39;00m \u001b[39mValueError\u001b[39;00m(\n\u001b[0;32m   1313\u001b[0m           \u001b[39m\"\u001b[39m\u001b[39mnon-zero flags not allowed in calls to recv_into() on \u001b[39m\u001b[39m%s\u001b[39;00m\u001b[39m\"\u001b[39m \u001b[39m%\u001b[39m\n\u001b[0;32m   1314\u001b[0m           \u001b[39mself\u001b[39m\u001b[39m.\u001b[39m\u001b[39m__class__\u001b[39m)\n\u001b[1;32m-> 1315\u001b[0m     \u001b[39mreturn\u001b[39;00m \u001b[39mself\u001b[39;49m\u001b[39m.\u001b[39;49mread(nbytes, buffer)\n\u001b[0;32m   1316\u001b[0m \u001b[39melse\u001b[39;00m:\n\u001b[0;32m   1317\u001b[0m     \u001b[39mreturn\u001b[39;00m \u001b[39msuper\u001b[39m()\u001b[39m.\u001b[39mrecv_into(buffer, nbytes, flags)\n",
      "File \u001b[1;32m~\\anaconda3\\Lib\\ssl.py:1167\u001b[0m, in \u001b[0;36mSSLSocket.read\u001b[1;34m(self, len, buffer)\u001b[0m\n\u001b[0;32m   1165\u001b[0m \u001b[39mtry\u001b[39;00m:\n\u001b[0;32m   1166\u001b[0m     \u001b[39mif\u001b[39;00m buffer \u001b[39mis\u001b[39;00m \u001b[39mnot\u001b[39;00m \u001b[39mNone\u001b[39;00m:\n\u001b[1;32m-> 1167\u001b[0m         \u001b[39mreturn\u001b[39;00m \u001b[39mself\u001b[39;49m\u001b[39m.\u001b[39;49m_sslobj\u001b[39m.\u001b[39;49mread(\u001b[39mlen\u001b[39;49m, buffer)\n\u001b[0;32m   1168\u001b[0m     \u001b[39melse\u001b[39;00m:\n\u001b[0;32m   1169\u001b[0m         \u001b[39mreturn\u001b[39;00m \u001b[39mself\u001b[39m\u001b[39m.\u001b[39m_sslobj\u001b[39m.\u001b[39mread(\u001b[39mlen\u001b[39m)\n",
      "\u001b[1;31mKeyboardInterrupt\u001b[0m: "
     ]
    }
   ],
   "source": [
    "from composio.cli.add import add_integration\n",
    "\n",
    "\n",
    "add_integration('discord', get_context(), no_browser=True)"
   ]
  },
  {
   "cell_type": "code",
   "execution_count": null,
   "metadata": {},
   "outputs": [],
   "source": [
    "tools = composio_toolset.get_tools(actions=[Action.GOOGLECALENDAR_CREATE_EVENT])"
   ]
  },
  {
   "cell_type": "code",
   "execution_count": null,
   "metadata": {},
   "outputs": [
    {
     "data": {
      "text/plain": [
       "[{'type': 'function',\n",
       "  'function': {'name': 'GOOGLECALENDAR_CREATE_EVENT',\n",
       "   'description': 'Create a new event in a Google Calendar.',\n",
       "   'parameters': {'properties': {'description': {'default': None,\n",
       "      'description': 'Description of the event. Can contain HTML. Optional. Please provide a value of type string.',\n",
       "      'title': 'Description',\n",
       "      'type': 'string'},\n",
       "     'eventType': {'default': 'default',\n",
       "      'description': \"Type of the event, immutable post-creation. Currently, only 'default' and 'workingLocation' can be created. Note: choose value only from following options - ['default', 'outOfOffice', 'focusTime', 'workingLocation']. Please provide a value of type string.\",\n",
       "      'enum': ['default', 'outOfOffice', 'focusTime', 'workingLocation'],\n",
       "      'title': 'EventType',\n",
       "      'type': 'string'},\n",
       "     'create_meeting_room': {'default': None,\n",
       "      'description': 'Whether to create a google meet event. If set to true, a link to the google meet event will be created and added to the event. Please provide a value of type boolean.',\n",
       "      'title': 'Create Meeting Room',\n",
       "      'type': 'boolean'},\n",
       "     'guestsCanSeeOtherGuests': {'default': None,\n",
       "      'description': \"Whether attendees other than the organizer can see who the event's attendees are. Please provide a value of type boolean.\",\n",
       "      'title': 'Guestscanseeotherguests',\n",
       "      'type': 'boolean'},\n",
       "     'guestsCanInviteOthers': {'default': None,\n",
       "      'description': 'Whether attendees other than the organizer can invite others to the event. Please provide a value of type boolean.',\n",
       "      'title': 'Guestscaninviteothers',\n",
       "      'type': 'boolean'},\n",
       "     'location': {'default': None,\n",
       "      'description': 'Geographic location of the event as free-form text. Please provide a value of type string.',\n",
       "      'title': 'Location',\n",
       "      'type': 'string'},\n",
       "     'summary': {'default': None,\n",
       "      'description': 'Summary of the event. Title of the event. Please provide a value of type string.',\n",
       "      'title': 'Summary',\n",
       "      'type': 'string'},\n",
       "     'transparency': {'default': 'opaque',\n",
       "      'description': \"Event's calendar block status: 'opaque' (busy) or 'transparent' (available). Note: choose value only from following options - ['opaque', 'transparent']. Please provide a value of type string.\",\n",
       "      'enum': ['opaque', 'transparent'],\n",
       "      'title': 'EventTransparency',\n",
       "      'type': 'string'},\n",
       "     'visibility': {'default': 'default',\n",
       "      'description': \"Visibility of the event ('default', 'public', 'private', 'confidential'). Note: choose value only from following options - ['default', 'public', 'private', 'confidential']. Please provide a value of type string.\",\n",
       "      'enum': ['default', 'public', 'private', 'confidential'],\n",
       "      'title': 'EventVisibility',\n",
       "      'type': 'string'},\n",
       "     'recurrence': {'default': None,\n",
       "      'description': 'List of RRULE, EXRULE, RDATE and EXDATE lines for a recurring event, as specified in RFC5545.\\n        Note that DTSTART and DTEND lines are not allowed in this field; event start and end times are specified in the start and end fields. \\n        This field is omitted for single events or instances of recurring events.',\n",
       "      'examples': ['RRULE:FREQ=DAILY;COUNT=2', 'EXRULE:FREQ=DAILY;COUNT=1'],\n",
       "      'items': {'type': 'string'},\n",
       "      'title': 'Recurrence',\n",
       "      'type': 'array'},\n",
       "     'timezone': {'default': None,\n",
       "      'description': 'Timezone of the event. As an example: America/New_York. Necessary only if notmentioned in Start Date. Please provide a value of type string.',\n",
       "      'examples': ['America/New_York'],\n",
       "      'title': 'Timezone',\n",
       "      'type': 'string'},\n",
       "     'guests_can_modify': {'default': False,\n",
       "      'description': 'Indicates whether guests can modify the event. Please provide a value of type boolean.',\n",
       "      'examples': [True, False],\n",
       "      'title': 'Guests Can Modify',\n",
       "      'type': 'boolean'},\n",
       "     'attendees': {'default': None,\n",
       "      'description': 'List of emails of attendees for the event. This should strictly be a list of strings (each string an email ID). It must not be any dict or list of dict.',\n",
       "      'examples': [['john@doe.com', 'rock@json.com'], ['sam@gmail.com']],\n",
       "      'items': {'type': 'string'},\n",
       "      'title': 'Attendees',\n",
       "      'type': 'array'},\n",
       "     'send_updates': {'default': None,\n",
       "      'description': 'Defaults to True. Whether to send updates to the attendees of the event. Please provide a value of type boolean.',\n",
       "      'examples': [True, False],\n",
       "      'title': 'Send Updates',\n",
       "      'type': 'boolean'},\n",
       "     'start_datetime': {'description': 'Start date and time of the event. The start of the interval for the query in the following format. \\nSome examples of expected datetime format:\\n\\tUTC-5:30, 6:50 PM\\t->If date is not mentioned, and seeming that the start date is in next 24 hours.\\n\\tUTC+1, 11:59 PM, 31 Dec\\t->If the meeting start date is in next 1 year (this is most possible case)\\n\\tUTC-3:45, 7:15 AM, 22 Aug 2020\\t->If the meeting is to be set after at a spefic date, mentioned with year.\\n\\t11:15 PM, 12 May 2019\\t->In case no UTC offset to be mentioned, skip the UTC part altogether.\\n\\t2023-03-01T00:00:00Z\\t->Standard ISO-8601 format. Please provide a value of type string. This parameter is required.',\n",
       "      'examples': ['UTC-5:30, 6:50 PM',\n",
       "       'UTC+1, 11:59 PM, 31 Dec',\n",
       "       'UTC-3:45, 7:15 AM, 22 Aug 2020',\n",
       "       '11:15 PM, 12 May 2019',\n",
       "       '2023-03-01T00:00:00Z'],\n",
       "      'title': 'Start Datetime',\n",
       "      'type': 'string'},\n",
       "     'event_duration': {'description': \"Duration of the meeting event to be set, in a format like '3h30m', '2h', or '20m'. Please provide a value of type string. This parameter is required.\",\n",
       "      'examples': ['3h30m', '2h', '20m'],\n",
       "      'title': 'Event Duration',\n",
       "      'type': 'string'},\n",
       "     'calendar_id': {'default': 'primary',\n",
       "      'description': 'The ID of the Google Calendar. `primary` for interacting with the primary calendar. Please provide a value of type string.',\n",
       "      'examples': ['primary', 'user@gmail.com'],\n",
       "      'title': 'Calendar Id',\n",
       "      'type': 'string'}},\n",
       "    'title': 'CreateEventRequest',\n",
       "    'type': 'object',\n",
       "    'required': ['start_datetime', 'event_duration']}}}]"
      ]
     },
     "execution_count": 5,
     "metadata": {},
     "output_type": "execute_result"
    }
   ],
   "source": [
    "tools"
   ]
  },
  {
   "cell_type": "code",
   "execution_count": null,
   "metadata": {},
   "outputs": [
    {
     "data": {
      "text/plain": [
       "['APIFY',\n",
       " 'ASANA',\n",
       " 'ATTIO',\n",
       " 'BROWSERBASE_TOOL',\n",
       " 'BROWSER_TOOL',\n",
       " 'CLICKUP',\n",
       " 'CODEINTERPRETER',\n",
       " 'CODE_ANALYSIS_TOOL',\n",
       " 'CODE_FORMAT_TOOL',\n",
       " 'CODE_GREP_TOOL',\n",
       " 'CODE_INDEX_TOOL',\n",
       " 'CODE_MAP_TOOL',\n",
       " 'COMPOSIO',\n",
       " 'DISCORD',\n",
       " 'DISCORDBOT',\n",
       " 'DROPBOX',\n",
       " 'ELEVENLABS',\n",
       " 'EMBED_TOOL',\n",
       " 'EXA',\n",
       " 'FIGMA',\n",
       " 'FILETOOL',\n",
       " 'FIRECRAWL',\n",
       " 'GIT',\n",
       " 'GITHUB',\n",
       " 'GMAIL',\n",
       " 'GOOGLECALENDAR',\n",
       " 'GOOGLEDOCS',\n",
       " 'GOOGLEDRIVE',\n",
       " 'GOOGLEMEET',\n",
       " 'GOOGLESHEETS',\n",
       " 'GOOGLETASKS',\n",
       " 'GREPTILE',\n",
       " 'HACKERNEWS',\n",
       " 'HISTORY_FETCHER',\n",
       " 'HUBSPOT',\n",
       " 'IMAGE_ANALYSER',\n",
       " 'INDUCED_AI',\n",
       " 'JIRA',\n",
       " 'KLAVIYO',\n",
       " 'LINEAR',\n",
       " 'LISTENNOTES',\n",
       " 'MAILCHIMP',\n",
       " 'MATHEMATICAL',\n",
       " 'MULTIONAI',\n",
       " 'NASA',\n",
       " 'NOTION',\n",
       " 'PERPLEXITYAI',\n",
       " 'PIPEDRIVE',\n",
       " 'RAGTOOL',\n",
       " 'SCHEDULER',\n",
       " 'SERPAPI',\n",
       " 'SHELLTOOL',\n",
       " 'SLACK',\n",
       " 'SLACKBOT',\n",
       " 'SNOWFLAKE',\n",
       " 'SPIDERTOOL',\n",
       " 'SQLTOOL',\n",
       " 'TASKADE',\n",
       " 'TAVILY',\n",
       " 'TRELLO',\n",
       " 'TWITTER',\n",
       " 'TYPEFORM',\n",
       " 'WEATHERMAP',\n",
       " 'WEBTOOL',\n",
       " 'WORKSPACE_TOOL',\n",
       " 'YOUSEARCH',\n",
       " 'YOUTUBE',\n",
       " 'ZENDESK',\n",
       " 'ZEPTOOL']"
      ]
     },
     "execution_count": 6,
     "metadata": {},
     "output_type": "execute_result"
    }
   ],
   "source": [
    "list(App.__dict__['__annotations__'].keys())"
   ]
  },
  {
   "cell_type": "code",
   "execution_count": null,
   "metadata": {},
   "outputs": [],
   "source": []
  }
 ],
 "metadata": {
  "kernelspec": {
   "display_name": "env",
   "language": "python",
   "name": "python3"
  },
  "language_info": {
   "codemirror_mode": {
    "name": "ipython",
    "version": 3
   },
   "file_extension": ".py",
   "mimetype": "text/x-python",
   "name": "python",
   "nbconvert_exporter": "python",
   "pygments_lexer": "ipython3",
   "version": "3.11.7"
  },
  "orig_nbformat": 4,
  "vscode": {
   "interpreter": {
    "hash": "ac62ce362d1a757bfd43803f2a16aafe37b0e79daff897a3beefc2ff79e3999c"
   }
  }
 },
 "nbformat": 4,
 "nbformat_minor": 2
}
